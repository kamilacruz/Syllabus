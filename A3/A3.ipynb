{
 "cells": [
  {
   "cell_type": "markdown",
   "metadata": {},
   "source": [
    "# IIC2115 - Programación Como Herramienta para la Ingeniería\n",
    "## Actividad 3\n",
    "Se importan librerías necesarias:"
   ]
  },
  {
   "cell_type": "code",
   "execution_count": 1,
   "metadata": {},
   "outputs": [],
   "source": [
    "import sqlite3"
   ]
  },
  {
   "cell_type": "markdown",
   "metadata": {},
   "source": [
    "Se cargan los archivos de datos en diccionarios"
   ]
  },
  {
   "cell_type": "code",
   "execution_count": 2,
   "metadata": {},
   "outputs": [],
   "source": [
    "empleados = []\n",
    "departamentos = []\n",
    "trabaja_en = []\n",
    "def llenar_lista(nombre_archivo, lista, llaves):\n",
    "    with open(nombre_archivo, encoding=\"utf-8\") as archivo:\n",
    "        contenido = archivo.readlines()\n",
    "        for linea in contenido:\n",
    "            elemento = {}\n",
    "            data = linea.strip(\"\\n\").split(\",\")\n",
    "            for i in range(len(llaves)):\n",
    "                elemento[llaves[i]] = data[i]\n",
    "            lista.append(elemento)\n",
    "            \n",
    "llenar_lista(\"empleado.txt\", empleados, [\"id\",\"nombre\",\"edad\",\"sueldo\"])\n",
    "llenar_lista(\"departamento.txt\", departamentos, [\"id\",\"nombre\",\"presupuesto\",\"id_jefe\"])\n",
    "llenar_lista(\"trabaja_en.txt\", trabaja_en, [\"id_empleado\",\"id_depto\",\"porcentaje_tiempo\"])"
   ]
  },
  {
   "cell_type": "markdown",
   "metadata": {},
   "source": [
    "Se crean las tablas para modelar los datos y las relaciones descritas"
   ]
  },
  {
   "cell_type": "code",
   "execution_count": 3,
   "metadata": {},
   "outputs": [],
   "source": [
    "connection = sqlite3.connect(\"empresa.db\")\n",
    "cursor = connection.cursor()\n",
    "cursor.execute(\"CREATE TABLE Empleados(id INTEGER PRIMARY KEY, nombre TEXT, edad INTEGER, sueldo INTEGER)\")\n",
    "cursor.execute(\"CREATE TABLE Departamentos(id INTEGER PRIMARY KEY, nombre TEXT, presupuesto REAL, id_jefe INTEGER, FOREIGN KEY (id_jefe) REFERENCES Empleados)\")\n",
    "cursor.execute(\"CREATE TABLE TrabajaEn(id_empleado INTEGER, id_dpto INTEGER, porcentaje_tiempo INTEGER, FOREIGN KEY (id_empleado) REFERENCES Empleados, FOREIGN KEY (id_dpto) REFERENCES Departamentos)\")\n",
    "\n",
    "connection.commit()\n",
    "connection.close()"
   ]
  },
  {
   "cell_type": "markdown",
   "metadata": {},
   "source": [
    "Ingresamos la data a la base"
   ]
  },
  {
   "cell_type": "code",
   "execution_count": 4,
   "metadata": {},
   "outputs": [],
   "source": [
    "def ingresar_datos(nombre_tabla, lista_valores):\n",
    "    connection = sqlite3.connect(\"empresa.db\")\n",
    "    cursor = connection.cursor()\n",
    "    for elemento in lista_valores:\n",
    "        values = tuple(elemento.values())\n",
    "        n = len(values)\n",
    "        tupla = \"(\" + \",\".join([\"?\"] * n) +\")\"\n",
    "        cursor.execute(\"INSERT INTO \" + nombre_tabla + \" VALUES \" + tupla, values)\n",
    "    connection.commit()\n",
    "    connection.close()\n",
    "    \n",
    "ingresar_datos(\"Empleados\", empleados)\n",
    "ingresar_datos(\"Departamentos\", departamentos)\n",
    "ingresar_datos(\"TrabajaEn\", trabaja_en)"
   ]
  },
  {
   "cell_type": "markdown",
   "metadata": {},
   "source": [
    "Se generan las consultas solicitadas\n",
    "### 1. Nombre y edad de cada empleado que trabaja en los departamentos de Software y Hardware"
   ]
  },
  {
   "cell_type": "code",
   "execution_count": 5,
   "metadata": {},
   "outputs": [
    {
     "data": {
      "text/plain": [
       "[('Mary Johnson', 44), ('Stanley Browne', 23)]"
      ]
     },
     "execution_count": 5,
     "metadata": {},
     "output_type": "execute_result"
    }
   ],
   "source": [
    "connection = sqlite3.connect(\"empresa.db\")\n",
    "cursor = connection.cursor()\n",
    "\n",
    "cursor.execute(\n",
    "    \"\"\"SELECT e.nombre, e.edad\n",
    "    FROM Empleados e\n",
    "    INNER JOIN TrabajaEn t\n",
    "    ON e.id = t.id_empleado\n",
    "    INNER JOIN Departamentos d\n",
    "    ON t.id_dpto = d.id\n",
    "    WHERE (d.nombre = 'Software' OR d.nombre = 'Hardware')\n",
    "    GROUP BY e.id\n",
    "    HAVING COUNT(*) = 2\n",
    "    \"\"\"\n",
    ")\n",
    "resultado_1 = cursor.fetchall()\n",
    "\n",
    "connection.commit()\n",
    "connection.close()\n",
    "\n",
    "resultado_1"
   ]
  },
  {
   "cell_type": "markdown",
   "metadata": {},
   "source": [
    "### 2. Nombre de los jefes que administran los departamentos de presupuesto máximo"
   ]
  },
  {
   "cell_type": "code",
   "execution_count": 6,
   "metadata": {},
   "outputs": [
    {
     "data": {
      "text/plain": [
       "[('Michael Miller',), ('Edward Baker',)]"
      ]
     },
     "execution_count": 6,
     "metadata": {},
     "output_type": "execute_result"
    }
   ],
   "source": [
    "connection = sqlite3.connect(\"empresa.db\")\n",
    "cursor = connection.cursor()\n",
    "\n",
    "cursor.execute(\n",
    "    \"\"\"SELECT e.nombre\n",
    "    FROM Departamentos d\n",
    "    INNER JOIN Empleados e\n",
    "    ON d.id_jefe = e.id\n",
    "    WHERE d.presupuesto = (SELECT presupuesto FROM Departamentos ORDER BY presupuesto DESC LIMIT 1)\n",
    "    \"\"\"\n",
    ")\n",
    "resultado_2 = cursor.fetchall()\n",
    "\n",
    "connection.commit()\n",
    "connection.close()\n",
    "\n",
    "resultado_2"
   ]
  },
  {
   "cell_type": "markdown",
   "metadata": {},
   "source": [
    "### 3. Nombre de los empleados cuyo sueldo excede el presupuesto de todos los departamentos en los que trabaja"
   ]
  },
  {
   "cell_type": "code",
   "execution_count": 7,
   "metadata": {},
   "outputs": [
    {
     "data": {
      "text/plain": [
       "[('Linda Davis',)]"
      ]
     },
     "execution_count": 7,
     "metadata": {},
     "output_type": "execute_result"
    }
   ],
   "source": [
    "connection = sqlite3.connect(\"empresa.db\")\n",
    "cursor = connection.cursor()\n",
    "\n",
    "cursor.execute(\n",
    "    \"\"\"SELECT e.nombre\n",
    "    FROM Empleados e\n",
    "    WHERE e.sueldo > (SELECT presupuesto\n",
    "                        FROM Departamentos d\n",
    "                        INNER JOIN TrabajaEn t\n",
    "                        ON d.id = t.id_dpto\n",
    "                        WHERE t.id_empleado = e.id\n",
    "                        ORDER BY presupuesto DESC LIMIT 1)\n",
    "    \"\"\"\n",
    ")\n",
    "resultado_3 = cursor.fetchall()\n",
    "\n",
    "connection.commit()\n",
    "connection.close()\n",
    "\n",
    "resultado_3"
   ]
  },
  {
   "cell_type": "markdown",
   "metadata": {},
   "source": [
    "### 4. Nombre y cantidad de empleados de los departamentos con dedicación del personal equivalente a 20 jornadas completas"
   ]
  },
  {
   "cell_type": "code",
   "execution_count": 8,
   "metadata": {},
   "outputs": [
    {
     "data": {
      "text/plain": [
       "[('Operations', 26), ('Production', 22)]"
      ]
     },
     "execution_count": 8,
     "metadata": {},
     "output_type": "execute_result"
    }
   ],
   "source": [
    "connection = sqlite3.connect(\"empresa.db\")\n",
    "cursor = connection.cursor()\n",
    "\n",
    "cursor.execute(\n",
    "    \"\"\"SELECT d.nombre, COUNT(*)\n",
    "    FROM Departamentos d\n",
    "    INNER JOIN TrabajaEn t\n",
    "    ON t.id_dpto = d.id\n",
    "    INNER JOIN Empleados e\n",
    "    ON e.id = t.id_empleado\n",
    "    WHERE d.id IN (SELECT t1.id_dpto\n",
    "                    FROM TrabajaEn t1\n",
    "                    GROUP BY t1.id_dpto\n",
    "                    HAVING SUM(t1.porcentaje_tiempo) >= 2000)\n",
    "    GROUP BY t.id_dpto\n",
    "    \"\"\"\n",
    ")\n",
    "resultado_4 = cursor.fetchall()\n",
    "\n",
    "connection.commit()\n",
    "connection.close()\n",
    "\n",
    "resultado_4"
   ]
  }
 ],
 "metadata": {
  "kernelspec": {
   "display_name": "Python 3",
   "language": "python",
   "name": "python3"
  },
  "language_info": {
   "codemirror_mode": {
    "name": "ipython",
    "version": 3
   },
   "file_extension": ".py",
   "mimetype": "text/x-python",
   "name": "python",
   "nbconvert_exporter": "python",
   "pygments_lexer": "ipython3",
   "version": "3.8.3"
  }
 },
 "nbformat": 4,
 "nbformat_minor": 4
}
