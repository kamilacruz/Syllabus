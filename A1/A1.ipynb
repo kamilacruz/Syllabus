{
 "cells": [
  {
   "cell_type": "code",
   "execution_count": 1,
   "metadata": {},
   "outputs": [],
   "source": [
    "import json\n",
    "with open('movies.json', encoding='utf-8') as movies_file:\n",
    "    movies = json.load(movies_file)  ##se encuentra en carpeta A1"
   ]
  },
  {
   "cell_type": "code",
   "execution_count": 16,
   "metadata": {},
   "outputs": [],
   "source": [
    "class Pelicula:\n",
    "    def __init__(self, title, year, cast, genres):\n",
    "        self.title  = title\n",
    "        self.year   = year\n",
    "        self.cast   = cast\n",
    "        self.genres = genres\n",
    "        \n",
    "    def elencoRepetido(self, otra_pelicula):\n",
    "        elenco_otra = otra_pelicula.cast\n",
    "        for actor in self.cast:\n",
    "            if not actor in elenco_otra:\n",
    "                return False\n",
    "        return True"
   ]
  },
  {
   "cell_type": "code",
   "execution_count": 17,
   "metadata": {},
   "outputs": [],
   "source": [
    "class Padre:\n",
    "    def __init__(self, peliculas):\n",
    "        self.peliculas = peliculas\n",
    "        \n",
    "    def addPelicula(self, ide):\n",
    "        self.peliculas.append(ide)\n",
    "\n",
    "class Actor(Padre):\n",
    "    def __init__(self, peliculas, nombre):\n",
    "        super().__init__(peliculas) ##https://realpython.com/python-super/ referencia para utilizar super correctamente.\n",
    "        self.nombre    = nombre\n",
    "        \n",
    "class Año(Padre):\n",
    "    def __init__(self, peliculas, numero):\n",
    "        super().__init__(peliculas)\n",
    "        self.numero    = numero\n",
    "        \n",
    "class Genero(Padre):\n",
    "    def __init__(self, peliculas, tipo):\n",
    "        super().__init__(peliculas)\n",
    "        self.tipo      = tipo"
   ]
  },
  {
   "cell_type": "code",
   "execution_count": 18,
   "metadata": {},
   "outputs": [],
   "source": [
    "peliculas = {}\n",
    "actores   = {}\n",
    "años      = {}\n",
    "generos   = {}\n",
    "\n",
    "ide = 1 ##se creo un id pues existieron problemas en los ejercicios siguientes, dado que existen películas con el mismo nombre. Por esto, le creé un ID único a cada película.\n",
    "##se llama ide pues el nombre -id- ya estaba definido en python\n",
    "for movie in movies:\n",
    "    pelicula = Pelicula(movie[\"title\"], movie[\"year\"], movie[\"cast\"], movie[\"genres\"])\n",
    "    peliculas[ide] = pelicula\n",
    "    \n",
    "    for nombre in pelicula.cast:\n",
    "        if nombre in actores:\n",
    "            actor = actores[nombre]\n",
    "        else:\n",
    "            actor = Actor([], nombre)\n",
    "            actores[nombre] = actor\n",
    "            \n",
    "        actor.addPelicula(ide)\n",
    "        \n",
    "    if pelicula.year in años:\n",
    "        año = años[pelicula.year]\n",
    "    else:\n",
    "        año = Año([], pelicula.year)\n",
    "        años[pelicula.year] = año\n",
    "        \n",
    "    año.addPelicula(ide)\n",
    "    \n",
    "    for tipo in pelicula.genres:\n",
    "        if tipo in generos:\n",
    "            genero = generos[tipo]\n",
    "        else:\n",
    "            genero = Genero([], tipo)\n",
    "            generos[tipo] = genero\n",
    "            \n",
    "        genero.addPelicula(ide)\n",
    "        \n",
    "    ide += 1"
   ]
  },
  {
   "cell_type": "code",
   "execution_count": 29,
   "metadata": {},
   "outputs": [
    {
     "name": "stdout",
     "output_type": "stream",
     "text": [
      "Los 5 géneros más populares son:\n",
      "\n",
      "1.- Drama (8744 películas)\n",
      "2.- Comedy (7363 películas)\n",
      "3.- Western (3013 películas)\n",
      "4.- Crime (1499 películas)\n",
      "5.- Horror (1166 películas)\n"
     ]
    }
   ],
   "source": [
    "def criterio(tupla):\n",
    "    return tupla[1]\n",
    "##es importante notar que el quinto puesto lo comparten Horror y Musical, sin embargo,\n",
    "##puse sólo Horror pues está dentro de los primeros 5 que imprime la función.\n",
    "\n",
    "def generosPopulares(dic_generos, n):\n",
    "    lista_generos = []\n",
    "    for tipo in dic_generos:\n",
    "        genero = dic_generos[tipo]\n",
    "        cantidad_peliculas = len(genero.peliculas)\n",
    "        lista_generos.append((tipo, cantidad_peliculas))\n",
    "        \n",
    "    lista_generos.sort(reverse= True, key= criterio) ##referencia http://elclubdelautodidacta.es/wp/2014/05/python-un-poco-de-orden/ e intro a programación\n",
    "    n_generos_populares = lista_generos[:n]\n",
    "    print(\"Los\",n,\"géneros más populares son:\")\n",
    "    print()\n",
    "    for i in range(n):\n",
    "        print(\"%s.- %s (%s películas)\" % (i + 1, n_generos_populares[i][0], n_generos_populares[i][1]))##https://www.learnpython.org/es/String%20Formatting ##función %s sirve para escribir de manera ordenada de la forma que se le desee estructurar. En este caso la utilicé para plasmar en orden la respuesta.\n",
    "\n",
    "generosPopulares(generos, 5)"
   ]
  },
  {
   "cell_type": "code",
   "execution_count": 20,
   "metadata": {},
   "outputs": [
    {
     "name": "stdout",
     "output_type": "stream",
     "text": [
      "Los 3 años con mayor cantidad de películas estrenadas son:\n",
      "\n",
      "1.- 1919 (634 películas)\n",
      "2.- 1925 (572 películas)\n",
      "3.- 1936 (504 películas)\n"
     ]
    }
   ],
   "source": [
    "def añosPopulares(dic_años, n):\n",
    "    lista_años = []\n",
    "    for numero in dic_años:\n",
    "        año = dic_años[numero]\n",
    "        cantidad_peliculas = len(año.peliculas)\n",
    "        lista_años.append((numero, cantidad_peliculas))\n",
    "        \n",
    "    lista_años.sort(reverse= True, key= criterio)\n",
    "    n_años_populares = lista_años[:n]\n",
    "    print(\"Los\",n,\"años con mayor cantidad de películas estrenadas son:\")\n",
    "    print()\n",
    "    for i in range(n):\n",
    "        print(\"%s.- %s (%s películas)\" % (i + 1, n_años_populares[i][0], n_años_populares[i][1])) ##https://www.learnpython.org/es/String%20Formatting ##función %s sirve para escribir de manera ordenada de la forma que se le desee estructurar. En este caso la utilicé para plasmar en orden la respuesta.\n",
    "\n",
    "añosPopulares(años, 3)"
   ]
  },
  {
   "cell_type": "code",
   "execution_count": 24,
   "metadata": {},
   "outputs": [],
   "source": [
    "def añosTrayectoria(actor, dic_peliculas):\n",
    "    mayor_año = 0\n",
    "    menor_año = 9999\n",
    "    \n",
    "    for titulo in actor.peliculas:\n",
    "        pelicula = dic_peliculas[titulo]\n",
    "        año = pelicula.year\n",
    "        if año >= mayor_año:\n",
    "            mayor_año = año\n",
    "        if año <= menor_año:\n",
    "            menor_año = año\n",
    "    \n",
    "    trayectoria = mayor_año - menor_año + 1\n",
    "    return trayectoria\n",
    "##función necesaria para pregunta 3"
   ]
  },
  {
   "cell_type": "code",
   "execution_count": 25,
   "metadata": {},
   "outputs": [],
   "source": [
    "##ojo que se imprimieron los primeros 7, dado que existe un error en la base de datos\n",
    "##es por esto, que el primer actor corresponde a \".\" y el segundo \"and\", por ende\n",
    "##sólo se considera del dato 2 al 7, anulando la respuesta de los primeros dos.\n",
    "def actoresMayorTrayectoria(dic_actores, dic_peliculas, n): \n",
    "    lista_actores = []\n",
    "    for nombre in dic_actores:\n",
    "        actor = dic_actores[nombre]\n",
    "        años_trayectoria = añosTrayectoria(actor, peliculas)\n",
    "        lista_actores.append((nombre, años_trayectoria))\n",
    "        \n",
    "    lista_actores.sort(reverse= True, key= criterio)\n",
    "    n_actores_populares = lista_actores[:n]\n",
    "    print(\"Los\",n,\"actores con más años de trayectoria son:\")\n",
    "    print()\n",
    "    for i in range(n):\n",
    "        print(\"%s.- %s (%s años de trayectoria)\" % (i + 1, n_actores_populares[i][0], n_actores_populares[i][1])) ##https://www.learnpython.org/es/String%20Formatting ##función %s sirve para escribir de manera ordenada de la forma que se le desee estructurar. En este caso la utilicé para plasmar en orden la respuesta."
   ]
  },
  {
   "cell_type": "code",
   "execution_count": 23,
   "metadata": {},
   "outputs": [
    {
     "name": "stdout",
     "output_type": "stream",
     "text": [
      "El reparto que se ha repetido en la mayor cantidad de películas, es el de Harold Lloyd, Bebe Daniels, el cual se ha repetido 44 veces\n"
     ]
    }
   ],
   "source": [
    "def elencoMasRepetido(dic_peliculas):\n",
    "\n",
    "    elencos = []\n",
    "    for ide in dic_peliculas:\n",
    "        if len(dic_peliculas[ide].cast) > 1:\n",
    "            elencos.append(dic_peliculas[ide].cast)\n",
    "    mayores_repeticiones = 0\n",
    "    elenco_repetido = []\n",
    "\n",
    "    analisis_anterior = None    \n",
    "    for i in range(len(elencos)):\n",
    "        elenco = elencos[i]\n",
    "        if elenco != analisis_anterior:\n",
    "            repeticiones = elencos.count(elenco)\n",
    "            if repeticiones >= mayores_repeticiones:\n",
    "                mayores_repeticiones = repeticiones\n",
    "                elenco_repetido = elenco\n",
    "            analisis_anterior = elenco  \n",
    "    print(\"El reparto que se ha repetido en la mayor cantidad de películas, es el de %s, el cual se ha repetido %s veces\" % \n",
    "             (\", \".join(elenco_repetido), mayores_repeticiones))\n",
    "    \n",
    "elencoMasRepetido(peliculas)"
   ]
  }
 ],
 "metadata": {
  "kernelspec": {
   "display_name": "Python 3",
   "language": "python",
   "name": "python3"
  },
  "language_info": {
   "codemirror_mode": {
    "name": "ipython",
    "version": 3
   },
   "file_extension": ".py",
   "mimetype": "text/x-python",
   "name": "python",
   "nbconvert_exporter": "python",
   "pygments_lexer": "ipython3",
   "version": "3.8.5"
  }
 },
 "nbformat": 4,
 "nbformat_minor": 2
}
