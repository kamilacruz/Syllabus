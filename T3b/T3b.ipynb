{
 "cells": [
  {
   "cell_type": "code",
   "execution_count": null,
   "id": "described-alfred",
   "metadata": {},
   "outputs": [],
   "source": [
    "connection = sqlite3.connect(‘data.db’) \n",
    "cursor = connection.cursor()\n",
    "sqlStatement = ‘SELECT NIVEL, AVG(EDAD) FROM ESTUDIANTES WHERE NIVEL <> 'JR' GROUP BY NIVEL’ \n",
    "cursor.execute(sqlStatement)\n",
    "connection.close()"
   ]
  },
  {
   "cell_type": "code",
   "execution_count": null,
   "id": "remarkable-martial",
   "metadata": {},
   "outputs": [],
   "source": [
    "connection = sqlite3.connect(‘data.db’) \n",
    "cursor = connection.cursor()\n",
    "sqlStatement = ‘SELECT EST.NOMBRE FROM ESTUDIANTES EST LEFT OUTER JOIN INSCRITOS INS ON EST.NUM = INS.NUM.ESTWHERE INS.NUM.EST IS NULL’ \n",
    "cursor.execute(sqlStatement)\n",
    "connection.close()"
   ]
  }
 ],
 "metadata": {
  "kernelspec": {
   "display_name": "Python 3",
   "language": "python",
   "name": "python3"
  },
  "language_info": {
   "codemirror_mode": {
    "name": "ipython",
    "version": 3
   },
   "file_extension": ".py",
   "mimetype": "text/x-python",
   "name": "python",
   "nbconvert_exporter": "python",
   "pygments_lexer": "ipython3",
   "version": "3.8.5"
  }
 },
 "nbformat": 4,
 "nbformat_minor": 5
}
