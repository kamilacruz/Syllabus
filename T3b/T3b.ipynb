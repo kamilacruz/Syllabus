{
 "cells": [
  {
   "cell_type": "code",
   "execution_count": 57,
   "metadata": {},
   "outputs": [],
   "source": [
    "import sqlite3\n",
    "import csv"
   ]
  },
  {
   "cell_type": "code",
   "execution_count": 58,
   "metadata": {},
   "outputs": [],
   "source": [
    "def query(query):\n",
    "    connection = sqlite3.connect('data.db') \n",
    "    cursor = connection.cursor()\n",
    "    cursor.execute(query)\n",
    "    for r in cursor:\n",
    "        print(r)\n",
    "    connection.close()"
   ]
  },
  {
   "cell_type": "code",
   "execution_count": 134,
   "metadata": {},
   "outputs": [
    {
     "name": "stdout",
     "output_type": "stream",
     "text": [
      "(51135593, 'Maria White', 'English', 'SR', 21)\n",
      "(60839453, 'Charles Harris', 'Architecture', 'SR', 22)\n",
      "(99354543, 'Susan Martin', 'Law', 'JR', 20)\n",
      "(112348546, 'Joseph Thompson', 'Computer Science', 'SO', 19)\n",
      "(115987938, 'Christopher Garcia', 'Computer Science', 'JR', 20)\n",
      "(132977562, 'Angela Martinez', 'History', 'SR', 20)\n",
      "(269734834, 'Thomas Robinson', 'Psychology', 'SO', 18)\n",
      "(280158572, 'Margaret Clark', 'Animal Science', 'FR', 18)\n",
      "(301221823, 'Juan Rodriguez', 'Psychology', 'JR', 20)\n",
      "(318548912, 'Dorthy Lewis', 'Finance', 'FR', 18)\n",
      "(320874981, 'Daniel Lee', 'Electrical Engineering', 'FR', 17)\n",
      "(322654189, 'Lisa Walker', 'Computer Science', 'SO', 17)\n",
      "(348121549, 'Paul Hall', 'Computer Science', 'JR', 18)\n",
      "(351565322, 'Nancy Allen', 'Accounting', 'JR', 19)\n",
      "(451519864, 'Mark Young', 'Finance', 'FR', 18)\n",
      "(455798411, 'Luis Hernandez', 'Electrical Engineering', 'FR', 17)\n",
      "(462156489, 'Donald King', 'Mechanical Engineering', 'SO', 19)\n",
      "(550156548, 'George Wright', 'Education', 'SR', 21)\n",
      "(552455318, 'Ana Lopez', 'Computer Engineering', 'SR', 19)\n",
      "(556784565, 'Kenneth Hill', 'Civil Engineering', 'SR', 21)\n",
      "(567354612, 'Karen Scott', 'Computer Engineering', 'FR', 18)\n",
      "(573284895, 'Steven Green', 'Kinesiology', 'SO', 19)\n",
      "(574489456, 'Betty Adams', 'Economics', 'JR', 20)\n",
      "(578875478, 'Edward Baker', 'Veterinary Medicine', 'SR', 21)\n"
     ]
    }
   ],
   "source": [
    "query(\"select *  From estudiantes \")"
   ]
  },
  {
   "cell_type": "code",
   "execution_count": 128,
   "metadata": {},
   "outputs": [
    {
     "name": "stdout",
     "output_type": "stream",
     "text": [
      "(11564812, 'John Williams', 68)\n",
      "(90873519, 'Elizabeth Taylor', 11)\n",
      "(141582651, 'Mary Johnson', 20)\n",
      "(142519864, 'Ivana Teach', 20)\n",
      "(159542516, 'William Moore', 33)\n",
      "(242518965, 'James Smith', 68)\n",
      "(248965255, 'Barbara Wilson', 12)\n",
      "(254099823, 'Patricia Jones', 68)\n",
      "(287321212, 'Michael Miller', 12)\n",
      "(356187925, 'Robert Brown', 12)\n",
      "(486512566, 'David Anderson', 20)\n",
      "(489221823, 'Richard Jackson', 33)\n",
      "(489456522, 'Linda Davis', 20)\n",
      "(548977562, 'Ulysses Teach', 20)\n",
      "(619023588, 'Jennifer Thomas', 11)\n"
     ]
    }
   ],
   "source": [
    "query(\"select *  From profesores\")"
   ]
  },
  {
   "cell_type": "code",
   "execution_count": 129,
   "metadata": {},
   "outputs": [
    {
     "name": "stdout",
     "output_type": "stream",
     "text": [
      "('Data Structures', 'MWF 10', 'R128', 489456522)\n",
      "('Database Systems', 'MWF 12:30-1:45', '1320 DCL', 142519864)\n",
      "('Operating System Design', 'TuTh 12-1:20', '20 AVW', 489456522)\n",
      "('Archaeology of the Incas', 'MWF 3-4:15', 'R128', 248965255)\n",
      "('Aviation Accident Investigation', 'TuTh 1-2:50', 'Q3', 11564812)\n",
      "('Air Quality Engineering', 'TuTh 10:30-11:45', 'R15', 11564812)\n",
      "('Introductory Latin', 'MWF 3-4:15', 'R12', 248965255)\n",
      "('American Political Parties', 'TuTh 2-3:15', '20 AVW', 619023588)\n",
      "('Social Cognition', 'Tu 6:30-8:40', 'R15', 159542516)\n",
      "('Perception', 'MTuWTh 3', 'Q3', 489221823)\n",
      "('Multivariate Analysis', 'TuTh 2-3:15', 'R15', 90873519)\n",
      "('Patent Law', 'F 1-2:50', 'R128', 90873519)\n",
      "('Urban Economics', 'MWF 11', '20 AVW', 489221823)\n",
      "('Organic Chemistry', 'TuTh 12:30-1:45', 'R12', 489221823)\n",
      "('Marketing Research', 'MW 10-11:15', '1320 DCL', 489221823)\n",
      "('Seminar in American Art', 'M 4', 'R15', 489221823)\n",
      "('Orbital Mechanics', 'MWF 8', '1320 DCL', 11564812)\n",
      "('Dairy Herd Management', 'TuTh 12:30-1:45', 'R128', 356187925)\n",
      "('Communication Networks', 'MW 9:30-10:45', '20 AVW', 141582651)\n",
      "('Optical Electronics', 'TuTh 12:30-1:45', 'R15', 254099823)\n",
      "('Intoduction to Math', 'TuTh 8-9:30', 'R128', 489221823)\n"
     ]
    }
   ],
   "source": [
    "query(\"select *  From cursos\")"
   ]
  },
  {
   "cell_type": "code",
   "execution_count": 130,
   "metadata": {},
   "outputs": [
    {
     "name": "stdout",
     "output_type": "stream",
     "text": [
      "(112348546, 'Database Systems')\n",
      "(115987938, 'Database Systems')\n",
      "(348121549, 'Database Systems')\n",
      "(322654189, 'Database Systems')\n",
      "(552455318, 'Database Systems')\n",
      "(455798411, 'Operating System Design')\n",
      "(552455318, 'Operating System Design')\n",
      "(567354612, 'Operating System Design')\n",
      "(112348546, 'Operating System Design')\n",
      "(115987938, 'Operating System Design')\n",
      "(322654189, 'Operating System Design')\n",
      "(567354612, 'Data Structures')\n",
      "(552455318, 'Communication Networks')\n",
      "(455798411, 'Optical Electronics')\n",
      "(301221823, 'Perception')\n",
      "(301221823, 'Social Cognition')\n",
      "(301221823, 'American Political Parties')\n",
      "(556784565, 'Air Quality Engineering')\n",
      "(99354543, 'Patent Law')\n",
      "(574489456, 'Urban Economics')\n"
     ]
    }
   ],
   "source": [
    "query(\"select *  From inscritos\")"
   ]
  },
  {
   "cell_type": "code",
   "execution_count": 122,
   "metadata": {},
   "outputs": [
    {
     "name": "stdout",
     "output_type": "stream",
     "text": [
      "('Christopher Garcia',)\n",
      "('Paul Hall',)\n"
     ]
    }
   ],
   "source": [
    "query(\"\"\"select estudiantes.nombre From estudiantes\n",
    "        left join inscritos\n",
    "        on estudiantes.num = inscritos.num_est\n",
    "        \n",
    "        left join cursos \n",
    "        on cursos.nombre = inscritos.nombre_curso\n",
    "        \n",
    "        left join profesores\n",
    "        on profesores.id = cursos.id_profesor\n",
    "        \n",
    "        where( profesores.nombre like '%Teach%'\n",
    "                and estudiantes.nivel = 'JR')\n",
    "        \"\"\")"
   ]
  },
  {
   "cell_type": "code",
   "execution_count": 131,
   "metadata": {},
   "outputs": [
    {
     "name": "stdout",
     "output_type": "stream",
     "text": [
      "('Elizabeth Taylor',)\n",
      "('Linda Davis',)\n"
     ]
    }
   ],
   "source": [
    "query(\"\"\"select profesores.nombre\n",
    "        From estudiantes\n",
    "        left join inscritos\n",
    "        on estudiantes.num = inscritos.num_est\n",
    "        \n",
    "        left join cursos \n",
    "        on cursos.nombre = inscritos.nombre_curso\n",
    "        \n",
    "        left join profesores\n",
    "        on profesores.id = cursos.id_profesor\n",
    "        \n",
    "        where( cursos.sala = 'R128')\n",
    "        \"\"\")"
   ]
  },
  {
   "cell_type": "code",
   "execution_count": 133,
   "metadata": {},
   "outputs": [
    {
     "name": "stdout",
     "output_type": "stream",
     "text": [
      "(None, None)\n"
     ]
    }
   ],
   "source": [
    "query(\"\"\"select estudiantes.nombre, max(estudiantes.edad) From estudiantes\n",
    "        left join inscritos\n",
    "        on estudiantes.num = inscritos.num_est\n",
    "        \n",
    "        left join cursos \n",
    "        on cursos.nombre = inscritos.nombre_curso\n",
    "        \n",
    "        left join profesores\n",
    "        on profesores.id = cursos.id_profesor\n",
    "        \n",
    "        where( profesores.nombre ='Ivana Teach'\n",
    "                and estudiantes.major = 'History')\n",
    "        \"\"\")"
   ]
  },
  {
   "cell_type": "code",
   "execution_count": null,
   "metadata": {},
   "outputs": [],
   "source": []
  }
 ],
 "metadata": {
  "kernelspec": {
   "display_name": "Python 3",
   "language": "python",
   "name": "python3"
  },
  "language_info": {
   "codemirror_mode": {
    "name": "ipython",
    "version": 3
   },
   "file_extension": ".py",
   "mimetype": "text/x-python",
   "name": "python",
   "nbconvert_exporter": "python",
   "pygments_lexer": "ipython3",
   "version": "3.8.5"
  }
 },
 "nbformat": 4,
 "nbformat_minor": 4
}
